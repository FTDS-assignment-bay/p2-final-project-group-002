{
 "cells": [
  {
   "cell_type": "markdown",
   "metadata": {},
   "source": [
    "# Final Project Great Expectations for Data Analyst's Dataset"
   ]
  },
  {
   "cell_type": "markdown",
   "metadata": {},
   "source": [
    "## Import Necessary Libraries"
   ]
  },
  {
   "cell_type": "code",
   "execution_count": 1,
   "metadata": {},
   "outputs": [],
   "source": [
    "from great_expectations.data_context import FileDataContext\n",
    "\n",
    "context = FileDataContext.create(project_root_dir='./')"
   ]
  },
  {
   "cell_type": "markdown",
   "metadata": {},
   "source": [
    "## Defining the dataset"
   ]
  },
  {
   "cell_type": "code",
   "execution_count": 2,
   "metadata": {},
   "outputs": [],
   "source": [
    "# Define the name of the data source and convert it to lowercase\n",
    "datasource_name = 'data-analyst-stock-dataset'\n",
    "\n",
    "# Add a pandas data source with the specified name to the context\n",
    "datasource = context.sources.add_pandas(datasource_name)\n",
    "\n",
    "# Define the name of the dataset asset and convert it to lowercase\n",
    "asset_name = 'data-analyst-stock-dataset'\n",
    "\n",
    "# Specify the path to the raw CSV file containing the dataset\n",
    "path_to_data = 'dataset_for_analysis.csv'\n",
    "\n",
    "# Add a CSV asset with the specified name and file path to the data source\n",
    "asset = datasource.add_csv_asset(asset_name, filepath_or_buffer=path_to_data)\n",
    "\n",
    "# Build a batch request to load the dataset into memory\n",
    "batch_request = asset.build_batch_request()\n"
   ]
  },
  {
   "cell_type": "markdown",
   "metadata": {},
   "source": [
    "## Defining Validator"
   ]
  },
  {
   "cell_type": "code",
   "execution_count": 3,
   "metadata": {},
   "outputs": [
    {
     "data": {
      "application/vnd.jupyter.widget-view+json": {
       "model_id": "add10beab5f4432fbe8e88d13f67887c",
       "version_major": 2,
       "version_minor": 0
      },
      "text/plain": [
       "Calculating Metrics:   0%|          | 0/1 [00:00<?, ?it/s]"
      ]
     },
     "metadata": {},
     "output_type": "display_data"
    },
    {
     "data": {
      "text/html": [
       "<div>\n",
       "<style scoped>\n",
       "    .dataframe tbody tr th:only-of-type {\n",
       "        vertical-align: middle;\n",
       "    }\n",
       "\n",
       "    .dataframe tbody tr th {\n",
       "        vertical-align: top;\n",
       "    }\n",
       "\n",
       "    .dataframe thead th {\n",
       "        text-align: right;\n",
       "    }\n",
       "</style>\n",
       "<table border=\"1\" class=\"dataframe\">\n",
       "  <thead>\n",
       "    <tr style=\"text-align: right;\">\n",
       "      <th></th>\n",
       "      <th>Bank_ID</th>\n",
       "      <th>Date</th>\n",
       "      <th>Open</th>\n",
       "      <th>High</th>\n",
       "      <th>Low</th>\n",
       "      <th>Close</th>\n",
       "      <th>Adj Close</th>\n",
       "      <th>Volume</th>\n",
       "    </tr>\n",
       "  </thead>\n",
       "  <tbody>\n",
       "    <tr>\n",
       "      <th>0</th>\n",
       "      <td>BBCA</td>\n",
       "      <td>2019-04-02</td>\n",
       "      <td>5530.0</td>\n",
       "      <td>5570.0</td>\n",
       "      <td>5480.0</td>\n",
       "      <td>5500.0</td>\n",
       "      <td>4896.961426</td>\n",
       "      <td>36853000</td>\n",
       "    </tr>\n",
       "    <tr>\n",
       "      <th>1</th>\n",
       "      <td>BBCA</td>\n",
       "      <td>2019-04-03</td>\n",
       "      <td>5500.0</td>\n",
       "      <td>5500.0</td>\n",
       "      <td>5500.0</td>\n",
       "      <td>5500.0</td>\n",
       "      <td>4896.961426</td>\n",
       "      <td>0</td>\n",
       "    </tr>\n",
       "    <tr>\n",
       "      <th>2</th>\n",
       "      <td>BBCA</td>\n",
       "      <td>2019-04-04</td>\n",
       "      <td>5540.0</td>\n",
       "      <td>5560.0</td>\n",
       "      <td>5490.0</td>\n",
       "      <td>5540.0</td>\n",
       "      <td>4932.575195</td>\n",
       "      <td>48112000</td>\n",
       "    </tr>\n",
       "    <tr>\n",
       "      <th>3</th>\n",
       "      <td>BBCA</td>\n",
       "      <td>2019-04-05</td>\n",
       "      <td>5560.0</td>\n",
       "      <td>5560.0</td>\n",
       "      <td>5525.0</td>\n",
       "      <td>5530.0</td>\n",
       "      <td>4923.671875</td>\n",
       "      <td>21913500</td>\n",
       "    </tr>\n",
       "    <tr>\n",
       "      <th>4</th>\n",
       "      <td>BBCA</td>\n",
       "      <td>2019-04-08</td>\n",
       "      <td>5505.0</td>\n",
       "      <td>5540.0</td>\n",
       "      <td>5450.0</td>\n",
       "      <td>5480.0</td>\n",
       "      <td>4879.153320</td>\n",
       "      <td>39910000</td>\n",
       "    </tr>\n",
       "  </tbody>\n",
       "</table>\n",
       "</div>"
      ],
      "text/plain": [
       "  Bank_ID        Date    Open    High     Low   Close    Adj Close    Volume\n",
       "0    BBCA  2019-04-02  5530.0  5570.0  5480.0  5500.0  4896.961426  36853000\n",
       "1    BBCA  2019-04-03  5500.0  5500.0  5500.0  5500.0  4896.961426         0\n",
       "2    BBCA  2019-04-04  5540.0  5560.0  5490.0  5540.0  4932.575195  48112000\n",
       "3    BBCA  2019-04-05  5560.0  5560.0  5525.0  5530.0  4923.671875  21913500\n",
       "4    BBCA  2019-04-08  5505.0  5540.0  5450.0  5480.0  4879.153320  39910000"
      ]
     },
     "execution_count": 3,
     "metadata": {},
     "output_type": "execute_result"
    }
   ],
   "source": [
    "# Creating Expectation suite\n",
    "expectation_suite_name = 'data-validation'\n",
    "context.add_or_update_expectation_suite(expectation_suite_name)\n",
    "\n",
    "# Creating validator\n",
    "validator = context.get_validator(\n",
    "    batch_request = batch_request,\n",
    "    expectation_suite_name = expectation_suite_name\n",
    ")\n",
    "\n",
    "# Displaying Validator\n",
    "validator.head()"
   ]
  },
  {
   "cell_type": "markdown",
   "metadata": {},
   "source": [
    "In this data validation for our data analyst, we will be validating 4 expectations:\n",
    "- Bank ID must contain the selected banking company\n",
    "- Closing price must be numeric\n",
    "- Closing price must not be null\n",
    "- Date must be between 2019 to 2024"
   ]
  },
  {
   "cell_type": "markdown",
   "metadata": {},
   "source": [
    "## Expectations 1: The bank ID must contain the selected banking company"
   ]
  },
  {
   "cell_type": "code",
   "execution_count": 6,
   "metadata": {},
   "outputs": [
    {
     "data": {
      "application/vnd.jupyter.widget-view+json": {
       "model_id": "27dea48d612a4053bb7d7449fd2f78fc",
       "version_major": 2,
       "version_minor": 0
      },
      "text/plain": [
       "Calculating Metrics:   0%|          | 0/4 [00:00<?, ?it/s]"
      ]
     },
     "metadata": {},
     "output_type": "display_data"
    },
    {
     "data": {
      "text/plain": [
       "{\n",
       "  \"success\": true,\n",
       "  \"result\": {\n",
       "    \"observed_value\": [\n",
       "      \"BBCA\",\n",
       "      \"BBNI\",\n",
       "      \"BBRI\",\n",
       "      \"BMRI\",\n",
       "      \"BRIS\"\n",
       "    ],\n",
       "    \"details\": {\n",
       "      \"value_counts\": [\n",
       "        {\n",
       "          \"value\": \"BBCA\",\n",
       "          \"count\": 1225\n",
       "        },\n",
       "        {\n",
       "          \"value\": \"BBNI\",\n",
       "          \"count\": 1225\n",
       "        },\n",
       "        {\n",
       "          \"value\": \"BBRI\",\n",
       "          \"count\": 1225\n",
       "        },\n",
       "        {\n",
       "          \"value\": \"BMRI\",\n",
       "          \"count\": 1225\n",
       "        },\n",
       "        {\n",
       "          \"value\": \"BRIS\",\n",
       "          \"count\": 1225\n",
       "        }\n",
       "      ]\n",
       "    }\n",
       "  },\n",
       "  \"meta\": {},\n",
       "  \"exception_info\": {\n",
       "    \"raised_exception\": false,\n",
       "    \"exception_traceback\": null,\n",
       "    \"exception_message\": null\n",
       "  }\n",
       "}"
      ]
     },
     "execution_count": 6,
     "metadata": {},
     "output_type": "execute_result"
    }
   ],
   "source": [
    "validator.expect_column_distinct_values_to_be_in_set(column=\"Bank_ID\", value_set=[\"BBCA\", \"BBRI\", \"BMRI\", \"BRIS\", \"BBNI\"])"
   ]
  },
  {
   "cell_type": "markdown",
   "metadata": {},
   "source": [
    "This result indicates that the validation was successful. It shows that all expected values (\"BBCA\", \"BBNI\", \"BBRI\", \"BMRI\", \"BRIS\") were observed in the dataset. Each value appeared 1225 times, suggesting that the dataset contains an equal distribution of data for each of the selected banking companies."
   ]
  },
  {
   "cell_type": "markdown",
   "metadata": {},
   "source": [
    "## Expectations 2: Closing prices must be numeric"
   ]
  },
  {
   "cell_type": "code",
   "execution_count": 11,
   "metadata": {},
   "outputs": [
    {
     "data": {
      "application/vnd.jupyter.widget-view+json": {
       "model_id": "475f2cb88c164ac79468f4dfdbeb7f6b",
       "version_major": 2,
       "version_minor": 0
      },
      "text/plain": [
       "Calculating Metrics:   0%|          | 0/1 [00:00<?, ?it/s]"
      ]
     },
     "metadata": {},
     "output_type": "display_data"
    },
    {
     "data": {
      "text/plain": [
       "{\n",
       "  \"success\": true,\n",
       "  \"result\": {\n",
       "    \"observed_value\": \"float64\"\n",
       "  },\n",
       "  \"meta\": {},\n",
       "  \"exception_info\": {\n",
       "    \"raised_exception\": false,\n",
       "    \"exception_traceback\": null,\n",
       "    \"exception_message\": null\n",
       "  }\n",
       "}"
      ]
     },
     "execution_count": 11,
     "metadata": {},
     "output_type": "execute_result"
    }
   ],
   "source": [
    "validator.expect_column_values_to_be_of_type(column=\"Close\", type_=\"float64\")"
   ]
  },
  {
   "cell_type": "markdown",
   "metadata": {},
   "source": [
    "This result indicates that the validation was successful. The observed value indicates that the datatype of the specified column is numeric. This confirms that the datatype of the column meets the expectation, ensuring consistency and reliability in the dataset."
   ]
  },
  {
   "cell_type": "markdown",
   "metadata": {},
   "source": [
    "## Expectations 3: Closing Price must not be null"
   ]
  },
  {
   "cell_type": "code",
   "execution_count": 12,
   "metadata": {},
   "outputs": [
    {
     "data": {
      "application/vnd.jupyter.widget-view+json": {
       "model_id": "d03cd4ffc37b4255a1ea9f4fbb383cf3",
       "version_major": 2,
       "version_minor": 0
      },
      "text/plain": [
       "Calculating Metrics:   0%|          | 0/6 [00:00<?, ?it/s]"
      ]
     },
     "metadata": {},
     "output_type": "display_data"
    },
    {
     "data": {
      "text/plain": [
       "{\n",
       "  \"success\": true,\n",
       "  \"result\": {\n",
       "    \"element_count\": 6125,\n",
       "    \"unexpected_count\": 0,\n",
       "    \"unexpected_percent\": 0.0,\n",
       "    \"partial_unexpected_list\": []\n",
       "  },\n",
       "  \"meta\": {},\n",
       "  \"exception_info\": {\n",
       "    \"raised_exception\": false,\n",
       "    \"exception_traceback\": null,\n",
       "    \"exception_message\": null\n",
       "  }\n",
       "}"
      ]
     },
     "execution_count": 12,
     "metadata": {},
     "output_type": "execute_result"
    }
   ],
   "source": [
    "validator.expect_column_values_to_not_be_null(column=\"Close\")"
   ]
  },
  {
   "cell_type": "markdown",
   "metadata": {},
   "source": [
    "This result indicates a successful validation with no null values found in the closing price."
   ]
  },
  {
   "cell_type": "markdown",
   "metadata": {},
   "source": [
    "## Expectations 4: The Date must be between 2019 to 2024"
   ]
  },
  {
   "cell_type": "code",
   "execution_count": 19,
   "metadata": {},
   "outputs": [
    {
     "data": {
      "application/vnd.jupyter.widget-view+json": {
       "model_id": "ce04f2a9a5ec406f9f3e0325d28e482f",
       "version_major": 2,
       "version_minor": 0
      },
      "text/plain": [
       "Calculating Metrics:   0%|          | 0/8 [00:00<?, ?it/s]"
      ]
     },
     "metadata": {},
     "output_type": "display_data"
    },
    {
     "data": {
      "text/plain": [
       "{\n",
       "  \"success\": true,\n",
       "  \"result\": {\n",
       "    \"element_count\": 6125,\n",
       "    \"unexpected_count\": 0,\n",
       "    \"unexpected_percent\": 0.0,\n",
       "    \"partial_unexpected_list\": [],\n",
       "    \"missing_count\": 0,\n",
       "    \"missing_percent\": 0.0,\n",
       "    \"unexpected_percent_total\": 0.0,\n",
       "    \"unexpected_percent_nonmissing\": 0.0\n",
       "  },\n",
       "  \"meta\": {},\n",
       "  \"exception_info\": {\n",
       "    \"raised_exception\": false,\n",
       "    \"exception_traceback\": null,\n",
       "    \"exception_message\": null\n",
       "  }\n",
       "}"
      ]
     },
     "execution_count": 19,
     "metadata": {},
     "output_type": "execute_result"
    }
   ],
   "source": [
    "validator.expect_column_values_to_be_between(\n",
    "    column=\"Date\",\n",
    "    min_value=\"2019-03-31\",\n",
    "    max_value=\"2024-03-28\"\n",
    ")"
   ]
  },
  {
   "cell_type": "markdown",
   "metadata": {},
   "source": [
    "The validation has been succesful, validating that the date of the data is between 2019 to 2024"
   ]
  }
 ],
 "metadata": {
  "kernelspec": {
   "display_name": "base",
   "language": "python",
   "name": "python3"
  },
  "language_info": {
   "codemirror_mode": {
    "name": "ipython",
    "version": 3
   },
   "file_extension": ".py",
   "mimetype": "text/x-python",
   "name": "python",
   "nbconvert_exporter": "python",
   "pygments_lexer": "ipython3",
   "version": "3.11.5"
  }
 },
 "nbformat": 4,
 "nbformat_minor": 2
}
